{
  "nbformat": 4,
  "nbformat_minor": 0,
  "metadata": {
    "colab": {
      "name": "my-first-NN-project",
      "provenance": [],
      "authorship_tag": "ABX9TyNV+PjWKV58oTMeajD8dtWP",
      "include_colab_link": true
    },
    "kernelspec": {
      "name": "python3",
      "display_name": "Python 3"
    },
    "accelerator": "GPU"
  },
  "cells": [
    {
      "cell_type": "markdown",
      "metadata": {
        "id": "view-in-github",
        "colab_type": "text"
      },
      "source": [
        "<a href=\"https://colab.research.google.com/github/yalcinfurkancelik/my-first-NN-project/blob/master/my_first_NN_project.ipynb\" target=\"_parent\"><img src=\"https://colab.research.google.com/assets/colab-badge.svg\" alt=\"Open In Colab\"/></a>"
      ]
    },
    {
      "cell_type": "code",
      "metadata": {
        "id": "j3mdqwlkaVEj"
      },
      "source": [
        ""
      ],
      "execution_count": null,
      "outputs": []
    },
    {
      "cell_type": "code",
      "metadata": {
        "id": "n4v8Stn8SpMf",
        "outputId": "a91818e2-1734-4858-cd18-03beb5d2a379",
        "colab": {
          "base_uri": "https://localhost:8080/"
        }
      },
      "source": [
        "from numpy import exp, array, random, dot, mean, abs\n",
        "import numpy\n",
        "print(\"helllööö\")\n",
        "girdi = array([[0, 0, 1],[1, 1, 1],[1, 0, 1]])\n",
        "gerceksonuc=array([[0, 1, 1]]).T\n",
        "agirlik=array([[1.0, 1.0, 1.0]]).T\n",
        "for tekrar in range(10):\n",
        "  hucredegeri=dot(girdi,agirlik)\n",
        "  tahmin=1/(1+exp(-hucredegeri))\n",
        "  agirlik=agirlik+dot(girdi.T, ((gerceksonuc-tahmin) * tahmin * (1-tahmin)))\n",
        "  print(str(numpy.mean(numpy.abs(gerceksonuc-tahmin))))\n",
        "\n",
        "print(1/(1+exp(-(dot(array([1, 0, 0]),agirlik)))))"
      ],
      "execution_count": 2,
      "outputs": [
        {
          "output_type": "stream",
          "text": [
            "helllööö\n",
            "0.2992291246098964\n",
            "0.296483545848207\n",
            "0.29363165022315413\n",
            "0.29069110164618006\n",
            "0.28766447912598275\n",
            "0.28453652820173875\n",
            "0.2812785645631681\n",
            "0.27785871538569373\n",
            "0.27425342924031276\n",
            "0.2704554337944901\n",
            "[0.78734927]\n"
          ],
          "name": "stdout"
        }
      ]
    }
  ]
}